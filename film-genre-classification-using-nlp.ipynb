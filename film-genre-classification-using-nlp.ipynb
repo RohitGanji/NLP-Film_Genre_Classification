{
 "cells": [
  {
   "cell_type": "markdown",
   "id": "thick-pathology",
   "metadata": {
    "papermill": {
     "duration": 0.016695,
     "end_time": "2021-06-19T01:09:33.642309",
     "exception": false,
     "start_time": "2021-06-19T01:09:33.625614",
     "status": "completed"
    },
    "tags": []
   },
   "source": [
    "# Importing Data"
   ]
  },
  {
   "cell_type": "code",
   "execution_count": 1,
   "id": "noticed-exclusion",
   "metadata": {
    "execution": {
     "iopub.execute_input": "2021-06-19T01:09:33.683223Z",
     "iopub.status.busy": "2021-06-19T01:09:33.682580Z",
     "iopub.status.idle": "2021-06-19T01:09:35.667758Z",
     "shell.execute_reply": "2021-06-19T01:09:35.667071Z",
     "shell.execute_reply.started": "2021-06-19T00:57:41.40725Z"
    },
    "papermill": {
     "duration": 2.010429,
     "end_time": "2021-06-19T01:09:35.667927",
     "exception": false,
     "start_time": "2021-06-19T01:09:33.657498",
     "status": "completed"
    },
    "tags": []
   },
   "outputs": [],
   "source": [
    "import pandas as pd\n",
    "\n",
    "train_df = pd.read_csv(\"/kaggle/input/genre-classification-dataset-imdb/Genre Classification Dataset/train_data.txt\",\n",
    "                       engine=\"python\",\n",
    "                       sep=\" ::: \",\n",
    "                       names=[\"id\", \"movie\", \"genre\", \"summary\"])\n",
    "\n",
    "test_df = pd.read_csv(\"/kaggle/input/genre-classification-dataset-imdb/Genre Classification Dataset/test_data_solution.txt\",\n",
    "                      engine=\"python\",\n",
    "                      sep=\" ::: \",\n",
    "                      names=[\"id\", \"movie\", \"genre\", \"summary\"])"
   ]
  },
  {
   "cell_type": "code",
   "execution_count": 2,
   "id": "earned-logistics",
   "metadata": {
    "execution": {
     "iopub.execute_input": "2021-06-19T01:09:35.711269Z",
     "iopub.status.busy": "2021-06-19T01:09:35.710652Z",
     "iopub.status.idle": "2021-06-19T01:09:35.719294Z",
     "shell.execute_reply": "2021-06-19T01:09:35.719688Z",
     "shell.execute_reply.started": "2021-06-19T00:57:43.659718Z"
    },
    "papermill": {
     "duration": 0.036275,
     "end_time": "2021-06-19T01:09:35.719808",
     "exception": false,
     "start_time": "2021-06-19T01:09:35.683533",
     "status": "completed"
    },
    "tags": []
   },
   "outputs": [
    {
     "data": {
      "text/html": [
       "<div>\n",
       "<style scoped>\n",
       "    .dataframe tbody tr th:only-of-type {\n",
       "        vertical-align: middle;\n",
       "    }\n",
       "\n",
       "    .dataframe tbody tr th {\n",
       "        vertical-align: top;\n",
       "    }\n",
       "\n",
       "    .dataframe thead th {\n",
       "        text-align: right;\n",
       "    }\n",
       "</style>\n",
       "<table border=\"1\" class=\"dataframe\">\n",
       "  <thead>\n",
       "    <tr style=\"text-align: right;\">\n",
       "      <th></th>\n",
       "      <th>id</th>\n",
       "      <th>movie</th>\n",
       "      <th>genre</th>\n",
       "      <th>summary</th>\n",
       "    </tr>\n",
       "  </thead>\n",
       "  <tbody>\n",
       "    <tr>\n",
       "      <th>0</th>\n",
       "      <td>1</td>\n",
       "      <td>Oscar et la dame rose (2009)</td>\n",
       "      <td>drama</td>\n",
       "      <td>Listening in to a conversation between his doc...</td>\n",
       "    </tr>\n",
       "    <tr>\n",
       "      <th>1</th>\n",
       "      <td>2</td>\n",
       "      <td>Cupid (1997)</td>\n",
       "      <td>thriller</td>\n",
       "      <td>A brother and sister with a past incestuous re...</td>\n",
       "    </tr>\n",
       "    <tr>\n",
       "      <th>2</th>\n",
       "      <td>3</td>\n",
       "      <td>Young, Wild and Wonderful (1980)</td>\n",
       "      <td>adult</td>\n",
       "      <td>As the bus empties the students for their fiel...</td>\n",
       "    </tr>\n",
       "    <tr>\n",
       "      <th>3</th>\n",
       "      <td>4</td>\n",
       "      <td>The Secret Sin (1915)</td>\n",
       "      <td>drama</td>\n",
       "      <td>To help their unemployed father make ends meet...</td>\n",
       "    </tr>\n",
       "    <tr>\n",
       "      <th>4</th>\n",
       "      <td>5</td>\n",
       "      <td>The Unrecovered (2007)</td>\n",
       "      <td>drama</td>\n",
       "      <td>The film's title refers not only to the un-rec...</td>\n",
       "    </tr>\n",
       "  </tbody>\n",
       "</table>\n",
       "</div>"
      ],
      "text/plain": [
       "   id                             movie     genre  \\\n",
       "0   1      Oscar et la dame rose (2009)     drama   \n",
       "1   2                      Cupid (1997)  thriller   \n",
       "2   3  Young, Wild and Wonderful (1980)     adult   \n",
       "3   4             The Secret Sin (1915)     drama   \n",
       "4   5            The Unrecovered (2007)     drama   \n",
       "\n",
       "                                             summary  \n",
       "0  Listening in to a conversation between his doc...  \n",
       "1  A brother and sister with a past incestuous re...  \n",
       "2  As the bus empties the students for their fiel...  \n",
       "3  To help their unemployed father make ends meet...  \n",
       "4  The film's title refers not only to the un-rec...  "
      ]
     },
     "execution_count": 2,
     "metadata": {},
     "output_type": "execute_result"
    }
   ],
   "source": [
    "# Viewing training data\n",
    "train_df.head()"
   ]
  },
  {
   "cell_type": "code",
   "execution_count": 3,
   "id": "crucial-pound",
   "metadata": {
    "execution": {
     "iopub.execute_input": "2021-06-19T01:09:35.759791Z",
     "iopub.status.busy": "2021-06-19T01:09:35.758990Z",
     "iopub.status.idle": "2021-06-19T01:09:35.763273Z",
     "shell.execute_reply": "2021-06-19T01:09:35.763675Z",
     "shell.execute_reply.started": "2021-06-19T00:57:44.553816Z"
    },
    "papermill": {
     "duration": 0.02793,
     "end_time": "2021-06-19T01:09:35.763791",
     "exception": false,
     "start_time": "2021-06-19T01:09:35.735861",
     "status": "completed"
    },
    "tags": []
   },
   "outputs": [
    {
     "data": {
      "text/html": [
       "<div>\n",
       "<style scoped>\n",
       "    .dataframe tbody tr th:only-of-type {\n",
       "        vertical-align: middle;\n",
       "    }\n",
       "\n",
       "    .dataframe tbody tr th {\n",
       "        vertical-align: top;\n",
       "    }\n",
       "\n",
       "    .dataframe thead th {\n",
       "        text-align: right;\n",
       "    }\n",
       "</style>\n",
       "<table border=\"1\" class=\"dataframe\">\n",
       "  <thead>\n",
       "    <tr style=\"text-align: right;\">\n",
       "      <th></th>\n",
       "      <th>id</th>\n",
       "      <th>movie</th>\n",
       "      <th>genre</th>\n",
       "      <th>summary</th>\n",
       "    </tr>\n",
       "  </thead>\n",
       "  <tbody>\n",
       "    <tr>\n",
       "      <th>0</th>\n",
       "      <td>1</td>\n",
       "      <td>Edgar's Lunch (1998)</td>\n",
       "      <td>thriller</td>\n",
       "      <td>L.R. Brane loves his life - his car, his apart...</td>\n",
       "    </tr>\n",
       "    <tr>\n",
       "      <th>1</th>\n",
       "      <td>2</td>\n",
       "      <td>La guerra de papá (1977)</td>\n",
       "      <td>comedy</td>\n",
       "      <td>Spain, March 1964: Quico is a very naughty chi...</td>\n",
       "    </tr>\n",
       "    <tr>\n",
       "      <th>2</th>\n",
       "      <td>3</td>\n",
       "      <td>Off the Beaten Track (2010)</td>\n",
       "      <td>documentary</td>\n",
       "      <td>One year in the life of Albin and his family o...</td>\n",
       "    </tr>\n",
       "    <tr>\n",
       "      <th>3</th>\n",
       "      <td>4</td>\n",
       "      <td>Meu Amigo Hindu (2015)</td>\n",
       "      <td>drama</td>\n",
       "      <td>His father has died, he hasn't spoken with his...</td>\n",
       "    </tr>\n",
       "    <tr>\n",
       "      <th>4</th>\n",
       "      <td>5</td>\n",
       "      <td>Er nu zhai (1955)</td>\n",
       "      <td>drama</td>\n",
       "      <td>Before he was known internationally as a marti...</td>\n",
       "    </tr>\n",
       "  </tbody>\n",
       "</table>\n",
       "</div>"
      ],
      "text/plain": [
       "   id                        movie        genre  \\\n",
       "0   1         Edgar's Lunch (1998)     thriller   \n",
       "1   2     La guerra de papá (1977)       comedy   \n",
       "2   3  Off the Beaten Track (2010)  documentary   \n",
       "3   4       Meu Amigo Hindu (2015)        drama   \n",
       "4   5            Er nu zhai (1955)        drama   \n",
       "\n",
       "                                             summary  \n",
       "0  L.R. Brane loves his life - his car, his apart...  \n",
       "1  Spain, March 1964: Quico is a very naughty chi...  \n",
       "2  One year in the life of Albin and his family o...  \n",
       "3  His father has died, he hasn't spoken with his...  \n",
       "4  Before he was known internationally as a marti...  "
      ]
     },
     "execution_count": 3,
     "metadata": {},
     "output_type": "execute_result"
    }
   ],
   "source": [
    "# Viewing test data\n",
    "test_df.head()"
   ]
  },
  {
   "cell_type": "markdown",
   "id": "decent-capacity",
   "metadata": {
    "papermill": {
     "duration": 0.015774,
     "end_time": "2021-06-19T01:09:35.795450",
     "exception": false,
     "start_time": "2021-06-19T01:09:35.779676",
     "status": "completed"
    },
    "tags": []
   },
   "source": [
    "# Data Manipulation"
   ]
  },
  {
   "cell_type": "markdown",
   "id": "fossil-survey",
   "metadata": {
    "papermill": {
     "duration": 0.026082,
     "end_time": "2021-06-19T01:09:35.837585",
     "exception": false,
     "start_time": "2021-06-19T01:09:35.811503",
     "status": "completed"
    },
    "tags": []
   },
   "source": [
    "## Shuffling the data"
   ]
  },
  {
   "cell_type": "code",
   "execution_count": 4,
   "id": "native-locking",
   "metadata": {
    "execution": {
     "iopub.execute_input": "2021-06-19T01:09:35.894138Z",
     "iopub.status.busy": "2021-06-19T01:09:35.893430Z",
     "iopub.status.idle": "2021-06-19T01:09:35.914552Z",
     "shell.execute_reply": "2021-06-19T01:09:35.914959Z",
     "shell.execute_reply.started": "2021-06-19T00:57:45.805869Z"
    },
    "papermill": {
     "duration": 0.050484,
     "end_time": "2021-06-19T01:09:35.915079",
     "exception": false,
     "start_time": "2021-06-19T01:09:35.864595",
     "status": "completed"
    },
    "tags": []
   },
   "outputs": [],
   "source": [
    "train_shuffled = train_df.sample(frac=1)"
   ]
  },
  {
   "cell_type": "markdown",
   "id": "individual-winning",
   "metadata": {
    "papermill": {
     "duration": 0.015492,
     "end_time": "2021-06-19T01:09:35.946879",
     "exception": false,
     "start_time": "2021-06-19T01:09:35.931387",
     "status": "completed"
    },
    "tags": []
   },
   "source": [
    "## Splitting the data"
   ]
  },
  {
   "cell_type": "markdown",
   "id": "caring-sacrifice",
   "metadata": {
    "papermill": {
     "duration": 0.015618,
     "end_time": "2021-06-19T01:09:35.978499",
     "exception": false,
     "start_time": "2021-06-19T01:09:35.962881",
     "status": "completed"
    },
    "tags": []
   },
   "source": []
  },
  {
   "cell_type": "code",
   "execution_count": 5,
   "id": "boxed-newcastle",
   "metadata": {
    "execution": {
     "iopub.execute_input": "2021-06-19T01:09:36.014446Z",
     "iopub.status.busy": "2021-06-19T01:09:36.013804Z",
     "iopub.status.idle": "2021-06-19T01:09:36.903552Z",
     "shell.execute_reply": "2021-06-19T01:09:36.903058Z",
     "shell.execute_reply.started": "2021-06-19T00:57:47.039444Z"
    },
    "papermill": {
     "duration": 0.909318,
     "end_time": "2021-06-19T01:09:36.903702",
     "exception": false,
     "start_time": "2021-06-19T01:09:35.994384",
     "status": "completed"
    },
    "tags": []
   },
   "outputs": [],
   "source": [
    "# Split the data using train_test_split from sklearn\n",
    "from sklearn.model_selection import train_test_split\n",
    "\n",
    "X_train, X_val, y_train, y_val = train_test_split(train_shuffled[\"summary\"],\n",
    "                                                 train_shuffled[\"genre\"],\n",
    "                                                 test_size=0.1)\n",
    "X_test, y_test = test_df[\"summary\"], test_df[\"genre\"]"
   ]
  },
  {
   "cell_type": "markdown",
   "id": "military-chancellor",
   "metadata": {
    "papermill": {
     "duration": 0.015897,
     "end_time": "2021-06-19T01:09:36.935899",
     "exception": false,
     "start_time": "2021-06-19T01:09:36.920002",
     "status": "completed"
    },
    "tags": []
   },
   "source": [
    "## One-Hot Encoding (Labels)"
   ]
  },
  {
   "cell_type": "code",
   "execution_count": 6,
   "id": "single-copyright",
   "metadata": {
    "execution": {
     "iopub.execute_input": "2021-06-19T01:09:36.988923Z",
     "iopub.status.busy": "2021-06-19T01:09:36.988076Z",
     "iopub.status.idle": "2021-06-19T01:09:37.035293Z",
     "shell.execute_reply": "2021-06-19T01:09:37.035718Z",
     "shell.execute_reply.started": "2021-06-19T00:57:47.83721Z"
    },
    "papermill": {
     "duration": 0.084309,
     "end_time": "2021-06-19T01:09:37.035860",
     "exception": false,
     "start_time": "2021-06-19T01:09:36.951551",
     "status": "completed"
    },
    "tags": []
   },
   "outputs": [],
   "source": [
    "from sklearn.preprocessing import OneHotEncoder\n",
    "\n",
    "ohe = OneHotEncoder(sparse=False)\n",
    "ohe.fit(train_shuffled[\"genre\"].to_numpy().reshape(-1,1)) # Fit the encoder to genre of training data\n",
    "\n",
    "train_ohe = ohe.transform(y_train.to_numpy().reshape(-1, 1))\n",
    "val_ohe = ohe.transform(y_val.to_numpy().reshape(-1,1))\n",
    "test_ohe = ohe.transform(y_test.to_numpy().reshape(-1,1))"
   ]
  },
  {
   "cell_type": "markdown",
   "id": "danish-plymouth",
   "metadata": {
    "papermill": {
     "duration": 0.016416,
     "end_time": "2021-06-19T01:09:37.068665",
     "exception": false,
     "start_time": "2021-06-19T01:09:37.052249",
     "status": "completed"
    },
    "tags": []
   },
   "source": [
    "## List (Summary)"
   ]
  },
  {
   "cell_type": "code",
   "execution_count": 7,
   "id": "sapphire-element",
   "metadata": {
    "execution": {
     "iopub.execute_input": "2021-06-19T01:09:37.110103Z",
     "iopub.status.busy": "2021-06-19T01:09:37.109590Z",
     "iopub.status.idle": "2021-06-19T01:09:37.113462Z",
     "shell.execute_reply": "2021-06-19T01:09:37.113046Z",
     "shell.execute_reply.started": "2021-06-19T00:57:48.640375Z"
    },
    "papermill": {
     "duration": 0.026977,
     "end_time": "2021-06-19T01:09:37.113582",
     "exception": false,
     "start_time": "2021-06-19T01:09:37.086605",
     "status": "completed"
    },
    "tags": []
   },
   "outputs": [],
   "source": [
    "train_sentences = X_train.tolist()\n",
    "val_sentences = X_val.tolist()\n",
    "test_sentences = X_test.tolist()"
   ]
  },
  {
   "cell_type": "markdown",
   "id": "million-tamil",
   "metadata": {
    "papermill": {
     "duration": 0.016119,
     "end_time": "2021-06-19T01:09:37.145541",
     "exception": false,
     "start_time": "2021-06-19T01:09:37.129422",
     "status": "completed"
    },
    "tags": []
   },
   "source": [
    "# Universal Serial Encoder (Embedding Layer)"
   ]
  },
  {
   "cell_type": "code",
   "execution_count": 8,
   "id": "amateur-substance",
   "metadata": {
    "execution": {
     "iopub.execute_input": "2021-06-19T01:09:37.182141Z",
     "iopub.status.busy": "2021-06-19T01:09:37.181467Z",
     "iopub.status.idle": "2021-06-19T01:10:06.206604Z",
     "shell.execute_reply": "2021-06-19T01:10:06.205622Z",
     "shell.execute_reply.started": "2021-06-19T00:57:49.521415Z"
    },
    "papermill": {
     "duration": 29.044879,
     "end_time": "2021-06-19T01:10:06.206789",
     "exception": false,
     "start_time": "2021-06-19T01:09:37.161910",
     "status": "completed"
    },
    "tags": []
   },
   "outputs": [],
   "source": [
    "import tensorflow_hub as hub\n",
    "embedding_layer = hub.KerasLayer(\"https://tfhub.dev/google/universal-sentence-encoder/4\",\n",
    "                                        trainable=False,\n",
    "                                        name=\"universal_sentence_encoder\")"
   ]
  },
  {
   "cell_type": "markdown",
   "id": "apart-siemens",
   "metadata": {
    "papermill": {
     "duration": 0.016206,
     "end_time": "2021-06-19T01:10:06.240261",
     "exception": false,
     "start_time": "2021-06-19T01:10:06.224055",
     "status": "completed"
    },
    "tags": []
   },
   "source": [
    "# Creating Dataset"
   ]
  },
  {
   "cell_type": "code",
   "execution_count": 9,
   "id": "super-target",
   "metadata": {
    "execution": {
     "iopub.execute_input": "2021-06-19T01:10:06.279744Z",
     "iopub.status.busy": "2021-06-19T01:10:06.278877Z",
     "iopub.status.idle": "2021-06-19T01:10:06.352208Z",
     "shell.execute_reply": "2021-06-19T01:10:06.352643Z",
     "shell.execute_reply.started": "2021-06-19T00:58:08.147327Z"
    },
    "papermill": {
     "duration": 0.095939,
     "end_time": "2021-06-19T01:10:06.352789",
     "exception": false,
     "start_time": "2021-06-19T01:10:06.256850",
     "status": "completed"
    },
    "tags": []
   },
   "outputs": [
    {
     "data": {
      "text/plain": [
       "(<PrefetchDataset shapes: ((None,), (None, 27)), types: (tf.string, tf.float64)>,\n",
       " <PrefetchDataset shapes: ((None,), (None, 27)), types: (tf.string, tf.float64)>,\n",
       " <PrefetchDataset shapes: ((None,), (None, 27)), types: (tf.string, tf.float64)>)"
      ]
     },
     "execution_count": 9,
     "metadata": {},
     "output_type": "execute_result"
    }
   ],
   "source": [
    "from tensorflow.data import Dataset as tfd\n",
    "import tensorflow as tf\n",
    "\n",
    "AUTOTUNE = tf.data.AUTOTUNE\n",
    "\n",
    "train_dataset = tfd.from_tensor_slices((X_train, train_ohe)).batch(32).prefetch(AUTOTUNE)\n",
    "val_dataset = tfd.from_tensor_slices((X_val, val_ohe)).batch(32).prefetch(AUTOTUNE)\n",
    "test_dataset = tfd.from_tensor_slices((X_test, test_ohe)).batch(32).prefetch(AUTOTUNE)\n",
    "\n",
    "train_dataset, val_dataset, test_dataset"
   ]
  },
  {
   "cell_type": "markdown",
   "id": "ruled-uniform",
   "metadata": {
    "papermill": {
     "duration": 0.017057,
     "end_time": "2021-06-19T01:10:06.386849",
     "exception": false,
     "start_time": "2021-06-19T01:10:06.369792",
     "status": "completed"
    },
    "tags": []
   },
   "source": [
    "# Model"
   ]
  },
  {
   "cell_type": "code",
   "execution_count": 10,
   "id": "drawn-myanmar",
   "metadata": {
    "execution": {
     "iopub.execute_input": "2021-06-19T01:10:06.437116Z",
     "iopub.status.busy": "2021-06-19T01:10:06.436369Z",
     "iopub.status.idle": "2021-06-19T01:10:06.438972Z",
     "shell.execute_reply": "2021-06-19T01:10:06.438592Z",
     "shell.execute_reply.started": "2021-06-19T01:01:35.26117Z"
    },
    "papermill": {
     "duration": 0.034949,
     "end_time": "2021-06-19T01:10:06.439070",
     "exception": false,
     "start_time": "2021-06-19T01:10:06.404121",
     "status": "completed"
    },
    "tags": []
   },
   "outputs": [],
   "source": [
    "classes = len(train_shuffled[\"genre\"].value_counts())"
   ]
  },
  {
   "cell_type": "code",
   "execution_count": 11,
   "id": "residential-college",
   "metadata": {
    "execution": {
     "iopub.execute_input": "2021-06-19T01:10:06.479973Z",
     "iopub.status.busy": "2021-06-19T01:10:06.476802Z",
     "iopub.status.idle": "2021-06-19T01:10:07.110859Z",
     "shell.execute_reply": "2021-06-19T01:10:07.110314Z",
     "shell.execute_reply.started": "2021-06-19T01:01:38.164364Z"
    },
    "papermill": {
     "duration": 0.655303,
     "end_time": "2021-06-19T01:10:07.110985",
     "exception": false,
     "start_time": "2021-06-19T01:10:06.455682",
     "status": "completed"
    },
    "tags": []
   },
   "outputs": [],
   "source": [
    "# Build the model\n",
    "from tensorflow.keras import layers\n",
    "\n",
    "inputs = layers.Input(shape=[], dtype=\"string\")\n",
    "x = embedding_layer(inputs)\n",
    "x = layers.Dense(512, activation=\"relu\")(x)\n",
    "outputs = layers.Dense(classes, activation=\"softmax\")(x)\n",
    "\n",
    "model = tf.keras.Model(inputs, outputs)"
   ]
  },
  {
   "cell_type": "code",
   "execution_count": 12,
   "id": "national-skiing",
   "metadata": {
    "execution": {
     "iopub.execute_input": "2021-06-19T01:10:07.156302Z",
     "iopub.status.busy": "2021-06-19T01:10:07.155469Z",
     "iopub.status.idle": "2021-06-19T01:10:07.161487Z",
     "shell.execute_reply": "2021-06-19T01:10:07.161004Z",
     "shell.execute_reply.started": "2021-06-19T01:01:39.324884Z"
    },
    "papermill": {
     "duration": 0.03317,
     "end_time": "2021-06-19T01:10:07.161593",
     "exception": false,
     "start_time": "2021-06-19T01:10:07.128423",
     "status": "completed"
    },
    "tags": []
   },
   "outputs": [],
   "source": [
    "# Compile the model\n",
    "model.compile(loss=\"categorical_crossentropy\",\n",
    "              optimizer=tf.keras.optimizers.Adam(),\n",
    "              metrics=[\"accuracy\"])"
   ]
  },
  {
   "cell_type": "code",
   "execution_count": 13,
   "id": "scheduled-parker",
   "metadata": {
    "execution": {
     "iopub.execute_input": "2021-06-19T01:10:07.203052Z",
     "iopub.status.busy": "2021-06-19T01:10:07.202187Z",
     "iopub.status.idle": "2021-06-19T01:10:07.211115Z",
     "shell.execute_reply": "2021-06-19T01:10:07.211696Z",
     "shell.execute_reply.started": "2021-06-19T01:01:40.94678Z"
    },
    "papermill": {
     "duration": 0.033256,
     "end_time": "2021-06-19T01:10:07.211864",
     "exception": false,
     "start_time": "2021-06-19T01:10:07.178608",
     "status": "completed"
    },
    "tags": []
   },
   "outputs": [
    {
     "name": "stdout",
     "output_type": "stream",
     "text": [
      "Model: \"model\"\n",
      "_________________________________________________________________\n",
      "Layer (type)                 Output Shape              Param #   \n",
      "=================================================================\n",
      "input_1 (InputLayer)         [(None,)]                 0         \n",
      "_________________________________________________________________\n",
      "universal_sentence_encoder ( (None, 512)               256797824 \n",
      "_________________________________________________________________\n",
      "dense (Dense)                (None, 512)               262656    \n",
      "_________________________________________________________________\n",
      "dense_1 (Dense)              (None, 27)                13851     \n",
      "=================================================================\n",
      "Total params: 257,074,331\n",
      "Trainable params: 276,507\n",
      "Non-trainable params: 256,797,824\n",
      "_________________________________________________________________\n"
     ]
    }
   ],
   "source": [
    "model.summary()"
   ]
  },
  {
   "cell_type": "code",
   "execution_count": 14,
   "id": "prostate-gather",
   "metadata": {
    "execution": {
     "iopub.execute_input": "2021-06-19T01:10:07.251669Z",
     "iopub.status.busy": "2021-06-19T01:10:07.251128Z",
     "iopub.status.idle": "2021-06-19T01:10:30.320096Z",
     "shell.execute_reply": "2021-06-19T01:10:30.319615Z",
     "shell.execute_reply.started": "2021-06-19T01:01:43.957867Z"
    },
    "papermill": {
     "duration": 23.090604,
     "end_time": "2021-06-19T01:10:30.320287",
     "exception": false,
     "start_time": "2021-06-19T01:10:07.229683",
     "status": "completed"
    },
    "tags": []
   },
   "outputs": [
    {
     "name": "stdout",
     "output_type": "stream",
     "text": [
      "Epoch 1/5\n",
      "152/152 [==============================] - 7s 28ms/step - loss: 2.3949 - accuracy: 0.3906 - val_loss: 1.7015 - val_accuracy: 0.5349\n",
      "Epoch 2/5\n",
      "152/152 [==============================] - 4s 24ms/step - loss: 1.6297 - accuracy: 0.5328 - val_loss: 1.5085 - val_accuracy: 0.5790\n",
      "Epoch 3/5\n",
      "152/152 [==============================] - 4s 30ms/step - loss: 1.5102 - accuracy: 0.5522 - val_loss: 1.3929 - val_accuracy: 0.5809\n",
      "Epoch 4/5\n",
      "152/152 [==============================] - 4s 24ms/step - loss: 1.4497 - accuracy: 0.5546 - val_loss: 1.3214 - val_accuracy: 0.6029\n",
      "Epoch 5/5\n",
      "152/152 [==============================] - 4s 23ms/step - loss: 1.3245 - accuracy: 0.5943 - val_loss: 1.2771 - val_accuracy: 0.6158\n"
     ]
    }
   ],
   "source": [
    "history = model.fit(train_dataset,\n",
    "                  steps_per_epoch=int(0.1*len(train_dataset)),\n",
    "                  epochs=5,\n",
    "                  validation_data=val_dataset,\n",
    "                  validation_steps=int(0.1*len(val_dataset)))"
   ]
  },
  {
   "cell_type": "code",
   "execution_count": 15,
   "id": "romance-invite",
   "metadata": {
    "execution": {
     "iopub.execute_input": "2021-06-19T01:10:30.511345Z",
     "iopub.status.busy": "2021-06-19T01:10:30.510770Z",
     "iopub.status.idle": "2021-06-19T01:11:07.225342Z",
     "shell.execute_reply": "2021-06-19T01:11:07.224809Z",
     "shell.execute_reply.started": "2021-06-19T01:02:06.358202Z"
    },
    "papermill": {
     "duration": 36.809317,
     "end_time": "2021-06-19T01:11:07.225497",
     "exception": false,
     "start_time": "2021-06-19T01:10:30.416180",
     "status": "completed"
    },
    "tags": []
   },
   "outputs": [
    {
     "name": "stdout",
     "output_type": "stream",
     "text": [
      "1694/1694 [==============================] - 37s 22ms/step - loss: 1.3660 - accuracy: 0.5783\n"
     ]
    },
    {
     "data": {
      "text/plain": [
       "[1.365978479385376, 0.5782656669616699]"
      ]
     },
     "execution_count": 15,
     "metadata": {},
     "output_type": "execute_result"
    }
   ],
   "source": [
    "model.evaluate(test_dataset)"
   ]
  },
  {
   "cell_type": "markdown",
   "id": "gorgeous-climate",
   "metadata": {
    "papermill": {
     "duration": 0.246896,
     "end_time": "2021-06-19T01:11:07.717883",
     "exception": false,
     "start_time": "2021-06-19T01:11:07.470987",
     "status": "completed"
    },
    "tags": []
   },
   "source": [
    "# Conclusion\n",
    "\n",
    "Accuracy: 57.88%\n",
    "\n",
    "Cleaning the data strangely gives lesser accuracy."
   ]
  }
 ],
 "metadata": {
  "kernelspec": {
   "display_name": "Python 3",
   "language": "python",
   "name": "python3"
  },
  "language_info": {
   "codemirror_mode": {
    "name": "ipython",
    "version": 3
   },
   "file_extension": ".py",
   "mimetype": "text/x-python",
   "name": "python",
   "nbconvert_exporter": "python",
   "pygments_lexer": "ipython3",
   "version": "3.7.10"
  },
  "papermill": {
   "default_parameters": {},
   "duration": 103.719832,
   "end_time": "2021-06-19T01:11:10.634597",
   "environment_variables": {},
   "exception": null,
   "input_path": "__notebook__.ipynb",
   "output_path": "__notebook__.ipynb",
   "parameters": {},
   "start_time": "2021-06-19T01:09:26.914765",
   "version": "2.3.3"
  }
 },
 "nbformat": 4,
 "nbformat_minor": 5
}
